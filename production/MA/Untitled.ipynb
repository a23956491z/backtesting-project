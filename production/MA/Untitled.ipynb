{
 "cells": [
  {
   "cell_type": "code",
   "execution_count": null,
   "id": "440bc04d-ed1b-47e5-939a-d97d7eb6a8b9",
   "metadata": {},
   "outputs": [],
   "source": [
    "\n"
   ]
  },
  {
   "cell_type": "code",
   "execution_count": 7,
   "id": "60f4e257-0486-484b-88ee-5a688d913b62",
   "metadata": {},
   "outputs": [
    {
     "name": "stdout",
     "output_type": "stream",
     "text": [
      "            Open  High   Low  Close  Volume\n",
      "Date                                       \n",
      "1985-01-04  9.50  9.50  9.15   9.15     424\n",
      "1985-01-05  9.15  9.15  9.00   9.00     286\n",
      "1985-01-07  9.00  9.30  9.00   9.25     158\n",
      "1985-01-08  9.25  9.30  9.10   9.20     190\n",
      "1985-01-09  9.10  9.15  9.00   9.05     189\n"
     ]
    }
   ],
   "source": [
    "import pandas as pd\n",
    "import numpy as np\n",
    "\n",
    "file = \"../../parse_data/data/splited/1210.csv\"\n",
    "ticker = pd.read_csv(file)\n",
    "\n",
    "# change the name of columns\n",
    "ticker.columns = ['Date', 'Open', 'High', 'Low', 'Close', 'Volume']\n",
    "\n",
    "# set the column \"Date\" to index\n",
    "ticker = ticker.set_index('Date')\n",
    "\n",
    "# set index column(\"Date\") from string to datetime.datetime\n",
    "ticker.index = pd.to_datetime(ticker.index)\n",
    "\n",
    "# sort index column(\"Date\") chronologically\n",
    "ticker = ticker.sort_index()"
   ]
  },
  {
   "cell_type": "markdown",
   "id": "cf615677-7583-48f2-aba0-ce1cc7cd6bdb",
   "metadata": {},
   "source": [
    "額外參考：\n",
    "* [datetime.datetime docs](https://docs.python.org/3/library/datetime.html)"
   ]
  },
  {
   "cell_type": "code",
   "execution_count": null,
   "id": "eca18d1e-4e74-4a2f-b4dc-f0563e850eaa",
   "metadata": {},
   "outputs": [],
   "source": []
  }
 ],
 "metadata": {
  "kernelspec": {
   "display_name": "Python 3",
   "language": "python",
   "name": "python3"
  },
  "language_info": {
   "codemirror_mode": {
    "name": "ipython",
    "version": 3
   },
   "file_extension": ".py",
   "mimetype": "text/x-python",
   "name": "python",
   "nbconvert_exporter": "python",
   "pygments_lexer": "ipython3",
   "version": "3.8.5"
  }
 },
 "nbformat": 4,
 "nbformat_minor": 5
}
